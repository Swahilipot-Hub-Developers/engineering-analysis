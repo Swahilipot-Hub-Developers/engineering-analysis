{
 "cells": [
  {
   "cell_type": "code",
   "execution_count": 4,
   "metadata": {},
   "outputs": [],
   "source": [
    "import pandas as pd\n"
   ]
  },
  {
   "cell_type": "code",
   "execution_count": 5,
   "metadata": {},
   "outputs": [],
   "source": [
    "\n",
    "# Data for counties and their sub-counties\n",
    "kenya_counties_subcounties = {\n",
    "    \"Baringo\": [\"Baringo Central\", \"Baringo North\", \"Baringo South\", \"Eldama Ravine\", \"Mogotio\", \"Tiaty\"],\n",
    "    \"Bomet\": [\"Bomet Central\", \"Bomet East\", \"Chepalungu\", \"Konoin\", \"Sotik\"],\n",
    "    \"Bungoma\": [\"Bumula\", \"Kabuchai\", \"Kanduyi\", \"Kimilili\", \"Mt. Elgon\", \"Sirisia\", \"Tongaren\", \"Webuye East\", \"Webuye West\"],\n",
    "    \"Busia\": [\"Budalangi\", \"Butula\", \"Funyula\", \"Nambale\", \"Teso North\", \"Teso South\"],\n",
    "    \"Elgeyo-Marakwet\": [\"Keiyo North\", \"Keiyo South\", \"Marakwet East\", \"Marakwet West\"],\n",
    "    \"Embu\": [\"Embu East\", \"Embu North\", \"Embu West\", \"Mbeere North\", \"Mbeere South\"],\n",
    "    \"Garissa\": [\"Balambala\", \"Dadaab\", \"Fafi\", \"Garissa Township\", \"Hulugho\", \"Ijara\", \"Lagdera\"],\n",
    "    \"Homa Bay\": [\"Homa Bay Town\", \"Kabondo Kasipul\", \"Karachuonyo\", \"Kasipul\", \"Mbita\", \"Ndhiwa\", \"Rachuonyo East\", \"Rachuonyo North\", \"Rangwe\", \"Suba South\"],\n",
    "    \"Isiolo\": [\"Garbatulla\", \"Isiolo\", \"Merti\"],\n",
    "    \"Kajiado\": [\"Kajiado Central\", \"Kajiado East\", \"Kajiado North\", \"Kajiado South\", \"Kajiado West\"],\n",
    "    \"Kakamega\": [\"Butere\", \"Ikolomani\", \"Kakamega Central\", \"Kakamega East\", \"Kakamega North\", \"Kakamega South\", \"Lugari\", \"Likuyani\", \"Lurambi\", \"Matungu\", \"Mumias East\", \"Mumias West\", \"Navakholo\"],\n",
    "    \"Kericho\": [\"Ainamoi\", \"Belgut\", \"Bureti\", \"Kipkelion East\", \"Kipkelion West\", \"Soin Sigowet\"],\n",
    "    \"Kiambu\": [\"Gatundu North\", \"Gatundu South\", \"Githunguri\", \"Juja\", \"Kabete\", \"Kiambaa\", \"Kiambu Town\", \"Kikuyu\", \"Limuru\", \"Lari\", \"Ruiru\", \"Thika Town\"],\n",
    "    \"Kilifi\": [\"Bahari\", \"Chonyi\", \"Ganze\", \"Kaloleni\", \"Kauma\", \"Kilifi North\", \"Kilifi South\", \"Magarini\", \"Malindi\", \"Rabai\"],\n",
    "    \"Kirinyaga\": [\"Kirinyaga Central\", \"Kirinyaga East\", \"Kirinyaga West\", \"Mwea East\", \"Mwea West\"],\n",
    "    \"Kisii\": [\"Bonchari\", \"Kitutu Chache North\", \"Kitutu Chache South\", \"Nyaribari Chache\", \"Nyaribari Masaba\", \"Bobasi\", \"Bomachoge Borabu\", \"Bomachoge Chache\", \"South Mugirango\"],\n",
    "    \"Kisumu\": [\"Kisumu East\", \"Kisumu West\", \"Kisumu Central\", \"Muhoroni\", \"Nyakach\", \"Nyando\", \"Seme\"],\n",
    "    \"Kitui\": [\"Kitui Central\", \"Kitui East\", \"Kitui Rural\", \"Kitui South\", \"Kitui West\", \"Mwingi Central\", \"Mwingi North\", \"Mwingi West\"],\n",
    "    \"Kwale\": [\"Kinango\", \"Lunga Lunga\", \"Matuga\", \"Msambweni\"],\n",
    "    \"Laikipia\": [\"Laikipia East\", \"Laikipia North\", \"Laikipia West\"],\n",
    "    \"Lamu\": [\"Lamu East\", \"Lamu West\"],\n",
    "    \"Machakos\": [\"Kathiani\", \"Machakos Town\", \"Masinga\", \"Mavoko\", \"Matungulu\", \"Mwala\", \"Yatta\"],\n",
    "    \"Makueni\": [\"Kaiti\", \"Kibwezi East\", \"Kibwezi West\", \"Kilome\", \"Makueni\", \"Mbooni\"],\n",
    "    \"Mandera\": [\"Banissa\", \"Kutulo\", \"Lafey\", \"Mandera East\", \"Mandera North\", \"Mandera South\", \"Mandera West\"],\n",
    "    \"Marsabit\": [\"Laisamis\", \"Moyale\", \"North Horr\", \"Saku\"],\n",
    "    \"Meru\": [\"Buuri\", \"Igembe Central\", \"Igembe North\", \"Igembe South\", \"Imenti North\", \"Imenti South\", \"Tigania East\", \"Tigania West\"],\n",
    "    \"Migori\": [\"Awendo\", \"Kuria East\", \"Kuria West\", \"Nyatike\", \"Rongo\", \"Suna East\", \"Suna West\", \"Uriri\"],\n",
    "    \"Mombasa\": [\"Changamwe\", \"Jomvu\", \"Kisauni\", \"Likoni\", \"Mvita\", \"Nyali\"],\n",
    "    \"Murang'a\": [\"Gatanga\", \"Kahuro\", \"Kandara\", \"Kangema\", \"Kigumo\", \"Kiharu\", \"Mathioya\", \"Murang'a South\"],\n",
    "    \"Nairobi\": [\"Embakasi Central\", \"Embakasi East\", \"Embakasi North\", \"Embakasi South\", \"Embakasi West\", \"Kamukunji\", \"Kasarani\", \"Kibra\", \"Lang'ata\", \"Makadara\", \"Mathare\", \"Ruaraka\", \"Starehe\", \"Westlands\", \"Dagoretti North\", \"Dagoretti South\"],\n",
    "    \"Nakuru\": [\"Bahati\", \"Gilgil\", \"Kuresoi North\", \"Kuresoi South\", \"Molo\", \"Naivasha\", \"Nakuru East\", \"Nakuru Town West\", \"Njoro\", \"Rongai\", \"Subukia\"],\n",
    "    \"Nandi\": [\"Aldai\", \"Chesumei\", \"Emgwen\", \"Mosop\", \"Nandi Hills\", \"Tindiret\"],\n",
    "    \"Narok\": [\"Emurua Dikirr\", \"Kilgoris\", \"Narok East\", \"Narok North\", \"Narok South\", \"Narok West\"],\n",
    "    \"Nyamira\": [\"Borabu\", \"Manga\", \"Masaba North\", \"Nyamira North\", \"Nyamira South\"],\n",
    "    \"Nyandarua\": [\"Kinangop\", \"Kipipiri\", \"Ndaragwa\", \"Ol Kalou\", \"Ol Jorok\"],\n",
    "    \"Nyeri\": [\"Kieni East\", \"Kieni West\", \"Mathira East\", \"Mathira West\", \"Mukurweini\", \"Nyeri Central\", \"Tetu\"],\n",
    "    \"Samburu\": [\"Samburu Central\", \"Samburu East\", \"Samburu North\"],\n",
    "    \"Siaya\": [\"Alego Usonga\", \"Bondo\", \"Gem\", \"Rarieda\", \"Ugenya\", \"Ugunja\"],\n",
    "    \"Taita-Taveta\": [\"Mwatate\", \"Taveta\", \"Voi\", \"Wundanyi\"],\n",
    "    \"Tana River\": [\"Bura\", \"Galole\", \"Garsen\"],\n",
    "    \"Tharaka-Nithi\": [\"Chuka/Igambang'ombe\", \"Maara\", \"Tharaka North\", \"Tharaka South\"],\n",
    "    \"Trans-Nzoia\": [\"Cherangany\", \"Endebess\", \"Kiminini\", \"Kwanza\", \"Saboti\"],\n",
    "    \"Turkana\": [\"Turkana Central\", \"Turkana East\", \"Turkana North\", \"Turkana South\", \"Turkana West\", \"Loima\"],\n",
    "    \"Uasin Gishu\": [\"Ainabkoi\", \"Kapseret\", \"Kesses\", \"Moiben\", \"Soy\", \"Turbo\"],\n",
    "    \"Vihiga\": [\"Emuhaya\", \"Hamisi\", \"Luanda\", \"Sabatia\", \"Vihiga\"],\n",
    "    \"Wajir\": [\"Eldas\", \"Tarbaj\", \"Wajir East\", \"Wajir North\", \"Wajir South\", \"Wajir West\"],\n",
    "    \"West Pokot\": [\"Kacheliba\", \"Kapenguria\", \"Pokot South\", \"Sigor\"]\n",
    "}\n",
    "\n",
    "\n"
   ]
  },
  {
   "cell_type": "code",
   "execution_count": 7,
   "metadata": {},
   "outputs": [
    {
     "data": {
      "text/plain": [
       "'../data/kenya_counties_subcounties.csv'"
      ]
     },
     "execution_count": 7,
     "metadata": {},
     "output_type": "execute_result"
    }
   ],
   "source": [
    "# Prepare data for DataFrame\n",
    "data = []\n",
    "for county, subcounties in kenya_counties_subcounties.items():\n",
    "    for subcounty in subcounties:\n",
    "        data.append({\"County\": county, \"Sub County\": subcounty})\n",
    "\n",
    "# Create DataFrame\n",
    "df = pd.DataFrame(data)\n",
    "\n",
    "# Specify the file path\n",
    "file_path = '../data/kenya_counties_subcounties.csv'\n",
    "\n",
    "# Write the data to a CSV file\n",
    "df.to_csv(file_path, index=False)\n",
    "\n",
    "file_path"
   ]
  }
 ],
 "metadata": {
  "kernelspec": {
   "display_name": "engineering-analysis",
   "language": "python",
   "name": "python3"
  },
  "language_info": {
   "codemirror_mode": {
    "name": "ipython",
    "version": 3
   },
   "file_extension": ".py",
   "mimetype": "text/x-python",
   "name": "python",
   "nbconvert_exporter": "python",
   "pygments_lexer": "ipython3",
   "version": "3.10.14"
  }
 },
 "nbformat": 4,
 "nbformat_minor": 2
}
